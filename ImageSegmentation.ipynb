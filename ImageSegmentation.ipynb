{
  "cells": [
    {
      "cell_type": "code",
      "execution_count": 49,
      "metadata": {
        "id": "n99lnVlwiVD_"
      },
      "outputs": [],
      "source": [
        "import tensorflow as tf\n",
        "import pandas as pd\n",
        "import numpy as np\n",
        "import sklearn\n",
        "import cv2\n",
        "import glob\n",
        "import os\n",
        "from tensorflow import keras\n",
        "from tensorflow.keras.layers import Conv2D, BatchNormalization, Activation, MaxPool2D, Conv2DTranspose, Concatenate, Input\n",
        "from tensorflow.keras.models import Model\n",
        "from tensorflow.keras.applications import ResNet50\n",
        "from sklearn.model_selection import train_test_split\n",
        "import matplotlib.pyplot as plt\n",
        "from PIL import Image"
      ]
    },
    {
      "cell_type": "code",
      "execution_count": 5,
      "metadata": {},
      "outputs": [
        {
          "name": "stdout",
          "output_type": "stream",
          "text": [
            "Number all images: 30\n"
          ]
        }
      ],
      "source": [
        "all_images = glob.glob(\"images/*.png\")\n",
        "all_images = [x[7:14] for x in all_images]\n",
        "print('Number all images:', len(all_images))"
      ]
    },
    {
      "cell_type": "code",
      "execution_count": 6,
      "metadata": {
        "colab": {
          "base_uri": "https://localhost:8080/"
        },
        "id": "nrtPuCcWuGBv",
        "outputId": "a75ce204-7c1c-40d9-980d-2ec4fe51c773"
      },
      "outputs": [
        {
          "name": "stdout",
          "output_type": "stream",
          "text": [
            "Number all labels: 25\n"
          ]
        }
      ],
      "source": [
        "all_labels = glob.glob(\"labels/*.png\")\n",
        "all_labels = [x[7:14] for x in all_labels]\n",
        "print('Number all labels:', len(all_labels))"
      ]
    },
    {
      "cell_type": "code",
      "execution_count": 7,
      "metadata": {
        "colab": {
          "base_uri": "https://localhost:8080/"
        },
        "id": "Rd1y4ssjR_NT",
        "outputId": "cb6d584d-24d4-4a9c-ecca-585b0d762c69"
      },
      "outputs": [
        {
          "data": {
            "text/plain": [
              "True"
            ]
          },
          "execution_count": 7,
          "metadata": {},
          "output_type": "execute_result"
        }
      ],
      "source": [
        "train_images = [x for x in all_images if x in all_labels]\n",
        "test_images = np.setdiff1d(all_images, train_images)\n",
        "#Check if all the labels are within the train images\n",
        "set(all_labels) == set(train_images)"
      ]
    },
    {
      "cell_type": "code",
      "execution_count": 8,
      "metadata": {
        "id": "77ct1DJAT1QG"
      },
      "outputs": [],
      "source": [
        "#Remove image '278.png' from data set since labels seem not to be correct\n",
        "train_images.remove('278.png')"
      ]
    },
    {
      "cell_type": "code",
      "execution_count": 9,
      "metadata": {
        "id": "XFDL99t9g0DS"
      },
      "outputs": [],
      "source": [
        "#Unpack training images and labels\n",
        "train_images_x = []\n",
        "train_images_y = []\n",
        "\n",
        "for image in train_images: \n",
        "  path = 'images/' + image\n",
        "  img = cv2.imread(path)\n",
        "  img = cv2.cvtColor(img, cv2.COLOR_BGR2RGB)\n",
        "  train_images_x.append(img)\n",
        "\n",
        "  path = 'labels/' + image\n",
        "  img_y = cv2.imread(path)\n",
        "  gray_image = cv2.cvtColor(img_y, cv2.COLOR_BGR2GRAY)\n",
        "  image_black_white = cv2.threshold(gray_image, 128, 255, cv2.THRESH_BINARY | cv2.THRESH_OTSU)[1]\n",
        "  train_images_y.append(image_black_white)\n",
        "\n",
        "train_images_x = np.array(train_images_x)\n",
        "train_images_y = np.array(train_images_y)"
      ]
    },
    {
      "cell_type": "code",
      "execution_count": 10,
      "metadata": {
        "id": "_nb2CM_ognOV"
      },
      "outputs": [],
      "source": [
        "ratio_white_pixel = []\n",
        "for i in range(0, len(train_images_y)): \n",
        "  ratio = len(np.where(train_images_y[i] == 255)[0])/len(np.where(train_images_y[i] == 0)[0])\n",
        "  ratio_white_pixel.append(ratio)"
      ]
    },
    {
      "cell_type": "code",
      "execution_count": 11,
      "metadata": {
        "colab": {
          "base_uri": "https://localhost:8080/"
        },
        "id": "7nQqYz30g8ot",
        "outputId": "d632276c-c7d0-4ef8-995d-e3976ac42bd9"
      },
      "outputs": [
        {
          "data": {
            "text/plain": [
              "[0.1367121101744892,\n",
              " 0.19293008355024846,\n",
              " 0.16872046366473473,\n",
              " 0.12012032542558283,\n",
              " 0.11398946115927248,\n",
              " 0.17330277857347465,\n",
              " 0.05619752131380038,\n",
              " 0.14210031020180544,\n",
              " 0.12954153740089625,\n",
              " 0.3833748469624689,\n",
              " 0.15622519009897495,\n",
              " 0.20256160889590252,\n",
              " 0.1525447574830291,\n",
              " 0.17053654354504535,\n",
              " 0.1600523949445959,\n",
              " 0.20013917629607925,\n",
              " 0.10557036337258342,\n",
              " 0.2601138286417474,\n",
              " 0.24380337825014234,\n",
              " 0.14621519518679166,\n",
              " 0.20559234731420162,\n",
              " 0.14611496825868733,\n",
              " 0.08851130267244672,\n",
              " 0.13456711043401484]"
            ]
          },
          "execution_count": 11,
          "metadata": {},
          "output_type": "execute_result"
        }
      ],
      "source": [
        "#Imbalance between White and Black pixels in label image\n",
        "ratio_white_pixel"
      ]
    },
    {
      "cell_type": "code",
      "execution_count": 12,
      "metadata": {
        "id": "zf92A-rhkZWs"
      },
      "outputs": [],
      "source": [
        "#Unpack test images\n",
        "test_images_x = []\n",
        "for image in test_images: \n",
        "  path = 'images/' + image\n",
        "  img = cv2.imread(path)\n",
        "  img = cv2.cvtColor(img, cv2.COLOR_BGR2RGB)\n",
        "  test_images_x.append(img)\n",
        "test_images_x = np.array(test_images_x)"
      ]
    },
    {
      "cell_type": "code",
      "execution_count": 13,
      "metadata": {
        "id": "Tg9gTuAOrxXX"
      },
      "outputs": [],
      "source": [
        "#Split training images into training and validation set - 15% into validation set - shuffle data set\n",
        "train_images_x, validation_images_x, train_images_y, validation_images_y = train_test_split(train_images_x, train_images_y, test_size=0.15, random_state = 0, shuffle = True)"
      ]
    },
    {
      "cell_type": "code",
      "execution_count": 14,
      "metadata": {
        "id": "cUb-gVUDtI3e"
      },
      "outputs": [],
      "source": [
        "#Transform pixel values in label images into 0 and 1\n",
        "validation_images_y = np.where(validation_images_y == 255,1,0)"
      ]
    },
    {
      "cell_type": "code",
      "execution_count": 15,
      "metadata": {
        "id": "2Qm86cjvDAo2"
      },
      "outputs": [],
      "source": [
        "#Augment training set - image and mask\n",
        "train_images_y = np.expand_dims(train_images_y, 3)\n",
        "seed=24\n",
        "from keras.preprocessing.image import ImageDataGenerator\n",
        "\n",
        "img_data_gen = tf.keras.preprocessing.image.ImageDataGenerator(\n",
        "                     horizontal_flip=True,\n",
        "                     vertical_flip=True#, \n",
        "                     #preprocessing_function = lambda x: x/255.\n",
        "                     )\n",
        "\n",
        "mask_data_gen = tf.keras.preprocessing.image.ImageDataGenerator(\n",
        "                     horizontal_flip=True,\n",
        "                     vertical_flip=True,\n",
        "                     preprocessing_function = lambda x: np.where(x== 255, 1, 0)) \n",
        "\n",
        "img_data_gen.fit(train_images_x, augment=True, seed=seed)\n",
        "image_generator = img_data_gen.flow(train_images_x, seed=seed, batch_size = len(train_images_x))\n",
        "\n",
        "mask_data_gen.fit(train_images_y, augment=True, seed=seed)\n",
        "mask_generator = mask_data_gen.flow(train_images_y, seed=seed, batch_size = len(train_images_x))\n",
        "\n",
        "def image_mask_generator(image_generator, mask_generator):\n",
        "    train_generator = zip(image_generator, mask_generator)\n",
        "    for (img, mask) in train_generator:\n",
        "        yield (img, mask)\n",
        "\n",
        "generator = image_mask_generator(image_generator, mask_generator)"
      ]
    },
    {
      "cell_type": "markdown",
      "metadata": {
        "id": "Klx2b9G6acJz"
      },
      "source": [
        "# **Model: UNet with ResNet50 as Encoder and pretrained ImageNet weights**"
      ]
    },
    {
      "cell_type": "code",
      "execution_count": 70,
      "metadata": {
        "id": "_bXmUuSmVdu7"
      },
      "outputs": [],
      "source": [
        "def conv_block(input, num_filters):\n",
        "    x = Conv2D(num_filters, 3, padding=\"same\")(input)\n",
        "    x = BatchNormalization()(x)\n",
        "    x = Activation(\"relu\")(x)\n",
        "\n",
        "    x = Conv2D(num_filters, 3, padding=\"same\")(x)\n",
        "    x = BatchNormalization()(x)\n",
        "    x = Activation(\"relu\")(x)\n",
        "\n",
        "    return x\n",
        "\n",
        "def decoder_block(input, skip_features, num_filters):\n",
        "    #Upsampling through transposed convolutions\n",
        "    x = Conv2DTranspose(num_filters, (2, 2), strides=2, padding=\"same\")(input)\n",
        "    #Concatenate upsampled input with input from encoder skip connections \n",
        "    x = Concatenate()([x, skip_features])\n",
        "    #Apply convolutions on concatenated input\n",
        "    x = conv_block(x, num_filters)\n",
        "    return x"
      ]
    },
    {
      "cell_type": "code",
      "execution_count": 71,
      "metadata": {
        "colab": {
          "base_uri": "https://localhost:8080/"
        },
        "id": "uMmAvZRbkbwJ",
        "outputId": "55be0868-ab91-45db-e7fc-01dc123ea096"
      },
      "outputs": [
        {
          "name": "stdout",
          "output_type": "stream",
          "text": [
            "Downloading data from https://storage.googleapis.com/tensorflow/keras-applications/resnet/resnet50_weights_tf_dim_ordering_tf_kernels_notop.h5\n",
            "94765736/94765736 [==============================] - 14s 0us/step\n"
          ]
        }
      ],
      "source": [
        "#Build Model \n",
        "input_shape = (256, 256, 3)\n",
        "inputs = Input(input_shape)\n",
        "\n",
        "#Use pretrained ResNet50 Model with ImageNet weights as Encoder\n",
        "resnet50 = ResNet50(include_top=False, weights=\"imagenet\", input_tensor=inputs)\n",
        "   \n",
        "#Get Encoder skip connections\n",
        "s1 = resnet50.get_layer(resnet50.layers[0]._name).output  ## (256 x 256)\n",
        "s2 = resnet50.get_layer(\"conv1_relu\").output        ## (128 x 128)\n",
        "s3 = resnet50.get_layer(\"conv2_block3_out\").output  ## (64 x 64)\n",
        "s4 = resnet50.get_layer(\"conv3_block4_out\").output  ## (32 x 32)\n",
        "\n",
        "#Bridge\n",
        "b1 = resnet50.get_layer(\"conv4_block6_out\").output  ## (16 x 16)\n",
        "\n",
        "#Decoder\n",
        "d1 = decoder_block(b1, s4, 512)                     ## (32 x 32)\n",
        "d2 = decoder_block(d1, s3, 256)                     ## (64 x 64)\n",
        "d3 = decoder_block(d2, s2, 128)                     ## (128 x 128)\n",
        "d4 = decoder_block(d3, s1, 64)                      ## (256 x 256)\n",
        "\n",
        "#Output\n",
        "outputs = Conv2D(1, 1, padding=\"same\", activation=\"sigmoid\")(d4)\n",
        "\n",
        "model = Model(inputs, outputs)"
      ]
    },
    {
      "cell_type": "code",
      "execution_count": 79,
      "metadata": {
        "id": "ztkVBfBV60Ws"
      },
      "outputs": [],
      "source": [
        "#Dice loss instead of binary cross entropy loss due to class imbalance\n",
        "def dice_loss(y_true, y_pred):\n",
        "  y_true = tf.cast(y_true, tf.float32)\n",
        "  numerator = 2 * tf.reduce_sum(y_true * y_pred)\n",
        "  denominator = tf.reduce_sum(y_true + y_pred)\n",
        "\n",
        "  return 1 - numerator / denominator"
      ]
    },
    {
      "cell_type": "code",
      "execution_count": 73,
      "metadata": {
        "id": "KhULtDQL8uZD"
      },
      "outputs": [],
      "source": [
        "#Use custom mean IoU metric because keras built in IoU metric does not consider a threshold\n",
        "def mean_iou(y_true, y_pred):\n",
        "  y_pred = tf.cast(tf.round(y_pred), tf.float32)\n",
        "  y_true = tf.cast(y_true, tf.float32)\n",
        "  intersect = tf.reduce_sum(y_true * y_pred)\n",
        "  union = tf.reduce_sum(y_true + y_pred)\n",
        "  return (intersect) / (union - intersect)"
      ]
    },
    {
      "cell_type": "code",
      "execution_count": 81,
      "metadata": {
        "id": "vVcix30FnCra"
      },
      "outputs": [],
      "source": [
        "model.compile(optimizer='adam', loss=dice_loss, metrics=[mean_iou])"
      ]
    },
    {
      "cell_type": "code",
      "execution_count": 82,
      "metadata": {
        "id": "eMVHpvoxmcB_"
      },
      "outputs": [],
      "source": [
        "filepath = 'ResNet_segmentation_model.hdf5'\n",
        "#Save model with lowest validation loss\n",
        "callbacks = [tf.keras.callbacks.ModelCheckpoint(filepath=filepath, \n",
        "            monitor='val_loss', verbose=0, save_best_only=True, mode='min')]"
      ]
    },
    {
      "cell_type": "code",
      "execution_count": 77,
      "metadata": {
        "id": "Qe6ioihhmxj0"
      },
      "outputs": [],
      "source": [
        "#Use total size of training images as batch size - Full Batch Gradient Descent\n",
        "BATCH_SIZE = len(train_images_x)\n",
        "NUM_EPOCHS = 300"
      ]
    },
    {
      "cell_type": "code",
      "execution_count": 1,
      "metadata": {
        "colab": {
          "base_uri": "https://localhost:8080/"
        },
        "id": "QZnE_plA81D2",
        "outputId": "edcfeac0-2bf2-4bb2-b232-5f40842e8b0c"
      },
      "outputs": [],
      "source": [
        "segmentation_model = model.fit(generator, validation_data=(validation_images_x, validation_images_y), steps_per_epoch=1,\n",
        "                                                 epochs=NUM_EPOCHS, callbacks = [callbacks])"
      ]
    },
    {
      "cell_type": "code",
      "execution_count": null,
      "metadata": {
        "colab": {
          "base_uri": "https://localhost:8080/",
          "height": 294
        },
        "id": "ExqFwWNXZ3bO",
        "outputId": "a0dda8a7-60a6-4179-bd16-ae507aea8c95"
      },
      "outputs": [
        {
          "data": {
            "image/png": "[encoded data removed]",
            "text/plain": [
              "<Figure size 432x288 with 1 Axes>"
            ]
          },
          "metadata": {
            "needs_background": "light"
          },
          "output_type": "display_data"
        }
      ],
      "source": [
        "plt.plot(segmentation_model.history['loss'])\n",
        "plt.plot(segmentation_model.history['val_loss'])\n",
        "plt.title('Model Loss')\n",
        "plt.ylabel('loss')\n",
        "plt.xlabel('epoch')\n",
        "plt.legend(['train', 'val'], loc='upper left')\n",
        "plt.show()"
      ]
    },
    {
      "cell_type": "markdown",
      "metadata": {
        "id": "DF2GjnDqoFxm"
      },
      "source": [
        "**Test Model**"
      ]
    },
    {
      "cell_type": "code",
      "execution_count": 17,
      "metadata": {
        "id": "KXO-wBM1m8cf"
      },
      "outputs": [],
      "source": [
        "segmentation_model = tf.keras.models.load_model('ResNet_segmentation_model.hdf5', compile=False)"
      ]
    },
    {
      "cell_type": "code",
      "execution_count": 18,
      "metadata": {
        "colab": {
          "base_uri": "https://localhost:8080/"
        },
        "id": "3y9FEG966Nql",
        "outputId": "7c64bba4-163a-4809-ff3a-30edcd4cc4ce"
      },
      "outputs": [
        {
          "name": "stdout",
          "output_type": "stream",
          "text": [
            "1/1 [==============================] - 5s 5s/step\n"
          ]
        }
      ],
      "source": [
        "test_predictions = segmentation_model.predict(test_images_x, verbose = 1)"
      ]
    },
    {
      "cell_type": "code",
      "execution_count": 67,
      "metadata": {},
      "outputs": [],
      "source": [
        "test_predictions_image = np.where(test_predictions > 0.5,255,0)"
      ]
    }
  ],
  "metadata": {
    "accelerator": "GPU",
    "colab": {
      "collapsed_sections": [],
      "name": "Dida_Test_Task (2).ipynb",
      "provenance": []
    },
    "interpreter": {
      "hash": "dc1b947dce198ff7f2d2cb152b2cbb61132fce4429fa808fd5b89ac4d7df39fa"
    },
    "kernelspec": {
      "display_name": "Python 3.11.4 ('tf')",
      "language": "python",
      "name": "python3"
    },
    "language_info": {
      "codemirror_mode": {
        "name": "ipython",
        "version": 3
      },
      "file_extension": ".py",
      "mimetype": "text/x-python",
      "name": "python",
      "nbconvert_exporter": "python",
      "pygments_lexer": "ipython3",
      "version": "3.11.4"
    }
  },
  "nbformat": 4,
  "nbformat_minor": 0
}
